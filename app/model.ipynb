{
 "cells": [
  {
   "cell_type": "code",
   "execution_count": 1,
   "id": "5c99e753",
   "metadata": {},
   "outputs": [],
   "source": [
    "#! pip install lightgbm"
   ]
  },
  {
   "cell_type": "code",
   "execution_count": 84,
   "id": "e460325c",
   "metadata": {},
   "outputs": [],
   "source": [
    "import pandas as pd\n",
    "pd.set_option('display.max_columns', None)\n",
    "\n",
    "import matplotlib.pyplot as plt\n",
    "import seaborn as sns\n",
    "sns.set_theme(style=\"whitegrid\")\n",
    "import numpy as np\n",
    "import re\n",
    "import warnings\n",
    "warnings.filterwarnings('ignore')\n",
    "\n",
    "from sklearn.model_selection import train_test_split\n",
    "from sklearn import metrics\n",
    "from sklearn.metrics import classification_report, precision_recall_fscore_support\n",
    "from sklearn.preprocessing import StandardScaler\n",
    "from sklearn.ensemble import GradientBoostingClassifier\n",
    "from sklearn.neighbors import NearestNeighbors\n",
    "\n",
    "import lightgbm as lgb\n",
    "import pickle\n",
    "import base64"
   ]
  },
  {
   "cell_type": "code",
   "execution_count": 35,
   "id": "51f2bffa",
   "metadata": {},
   "outputs": [],
   "source": [
    "# Reduire la taille des données\n",
    "def reduce_mem_usage(df):\n",
    "   \n",
    "    start_mem = df.memory_usage().sum() / 1024**2\n",
    "    print('Taille du Dataframe avant traitement {:.2f} MB'.format(start_mem))\n",
    "    \n",
    "    for col in df.columns:\n",
    "        col_type = df[col].dtype\n",
    "        \n",
    "        if col_type != object:\n",
    "            c_min = df[col].min()\n",
    "            c_max = df[col].max()\n",
    "            \n",
    "            if str(col_type)[:3] == 'int':\n",
    "                if c_min > np.iinfo(np.int8).min and c_max < np.iinfo(np.int8).max:\n",
    "                    df[col] = df[col].astype(np.int8)\n",
    "                elif c_min > np.iinfo(np.int16).min and c_max < np.iinfo(np.int16).max:\n",
    "                    df[col] = df[col].astype(np.int16)\n",
    "                elif c_min > np.iinfo(np.int32).min and c_max < np.iinfo(np.int32).max:\n",
    "                    df[col] = df[col].astype(np.int32)\n",
    "                elif c_min > np.iinfo(np.int64).min and c_max < np.iinfo(np.int64).max:\n",
    "                    df[col] = df[col].astype(np.int64)  \n",
    "            else:\n",
    "                if c_min > np.finfo(np.float16).min and c_max < np.finfo(np.float16).max:\n",
    "                    df[col] = df[col].astype(np.float16)\n",
    "                elif c_min > np.finfo(np.float32).min and c_max < np.finfo(np.float32).max:\n",
    "                    df[col] = df[col].astype(np.float32)\n",
    "                else:\n",
    "                    df[col] = df[col].astype(np.float64)\n",
    "        else:\n",
    "            df[col] = df[col].astype('category')\n",
    "\n",
    "    end_mem = df.memory_usage().sum() / 1024**2\n",
    "    print('Taille du Dataframe après traitement: {:.2f} MB'.format(end_mem))\n",
    "    print('Réduction de {:.1f}%'.format(100 * (start_mem - end_mem) / start_mem))\n",
    "    \n",
    "    return df"
   ]
  },
  {
   "cell_type": "code",
   "execution_count": 67,
   "id": "06825143",
   "metadata": {},
   "outputs": [
    {
     "name": "stdout",
     "output_type": "stream",
     "text": [
      "Taille du Dataframe avant traitement 2871.50 MB\n",
      "Taille du Dataframe après traitement: 765.97 MB\n",
      "Réduction de 73.3%\n"
     ]
    }
   ],
   "source": [
    "train = reduce_mem_usage(pd.read_csv(\"../appTrainC_agg_N.csv\"))"
   ]
  },
  {
   "cell_type": "code",
   "execution_count": 68,
   "id": "e84065d0",
   "metadata": {},
   "outputs": [],
   "source": [
    "train = train.dropna().sample(5000, random_state=42)"
   ]
  },
  {
   "cell_type": "code",
   "execution_count": 81,
   "id": "eeefcb17",
   "metadata": {},
   "outputs": [],
   "source": [
    "#train.to_csv('finalT.csv', index=False)"
   ]
  },
  {
   "cell_type": "code",
   "execution_count": 82,
   "id": "e8d158b7",
   "metadata": {},
   "outputs": [],
   "source": []
  },
  {
   "cell_type": "code",
   "execution_count": 69,
   "id": "37bc592f",
   "metadata": {},
   "outputs": [
    {
     "data": {
      "text/plain": [
       "(5000, 1224)"
      ]
     },
     "execution_count": 69,
     "metadata": {},
     "output_type": "execute_result"
    }
   ],
   "source": [
    "train.shape"
   ]
  },
  {
   "cell_type": "code",
   "execution_count": 70,
   "id": "74f7743d",
   "metadata": {},
   "outputs": [],
   "source": [
    "modelisation = train.drop(['SK_ID_CURR', 'TARGET', 'AMT_GOODS_PRICE'], axis=1)\n",
    "model_num = modelisation.select_dtypes(exclude=['object', 'category'])\n",
    "model_cat = modelisation.select_dtypes(include=['object', 'category'])\n",
    "model_onhot = pd.get_dummies(model_cat, drop_first=True)\n",
    "\n",
    "model = pd.concat([train['SK_ID_CURR'],model_num, model_onhot], axis=1)"
   ]
  },
  {
   "cell_type": "code",
   "execution_count": 71,
   "id": "165537d2",
   "metadata": {},
   "outputs": [],
   "source": [
    "#train.sample(10000, random_state=42)\n",
    "#train.dropna().to_csv(\"../trainnotNa.csv\", index=False)\n",
    "#model.to_csv('final.csv', index=False)"
   ]
  },
  {
   "cell_type": "code",
   "execution_count": 72,
   "id": "79d94f7b",
   "metadata": {},
   "outputs": [],
   "source": [
    "X = model\n",
    "y = train['TARGET']"
   ]
  },
  {
   "cell_type": "code",
   "execution_count": 73,
   "id": "153add49",
   "metadata": {},
   "outputs": [],
   "source": [
    "X_train, X_test, y_train, y_test = train_test_split(X, y, test_size=.2, random_state=42, stratify=y)"
   ]
  },
  {
   "cell_type": "code",
   "execution_count": 74,
   "id": "02af09ab",
   "metadata": {},
   "outputs": [],
   "source": [
    "#X_test"
   ]
  },
  {
   "cell_type": "code",
   "execution_count": 75,
   "id": "4161dd8e",
   "metadata": {},
   "outputs": [
    {
     "data": {
      "text/plain": [
       "221417    0\n",
       "118212    0\n",
       "290294    0\n",
       "214372    1\n",
       "28256     0\n",
       "         ..\n",
       "146191    0\n",
       "277575    0\n",
       "299426    0\n",
       "217321    0\n",
       "152832    0\n",
       "Name: TARGET, Length: 1000, dtype: int8"
      ]
     },
     "execution_count": 75,
     "metadata": {},
     "output_type": "execute_result"
    }
   ],
   "source": [
    "y_test"
   ]
  },
  {
   "cell_type": "code",
   "execution_count": 76,
   "id": "66a48ce0",
   "metadata": {},
   "outputs": [],
   "source": [
    "#X_test"
   ]
  },
  {
   "cell_type": "code",
   "execution_count": 77,
   "id": "8ca2c691",
   "metadata": {},
   "outputs": [],
   "source": [
    "#X_test.to_csv('test.csv', index=False)"
   ]
  },
  {
   "cell_type": "code",
   "execution_count": 78,
   "id": "f6dae113",
   "metadata": {},
   "outputs": [],
   "source": [
    "#test = pd.read_csv('test.csv')\n",
    "\n",
    "#client = sorted(test['SK_ID_CURR'].unique())\n",
    "\n",
    "\n",
    "load_clf = pickle.load(open('clf.pkl', 'rb'))"
   ]
  },
  {
   "cell_type": "code",
   "execution_count": 80,
   "id": "2673a8f1",
   "metadata": {},
   "outputs": [
    {
     "data": {
      "text/plain": [
       "array([0, 0, 1, ..., 0, 1, 0], dtype=int8)"
      ]
     },
     "execution_count": 80,
     "metadata": {},
     "output_type": "execute_result"
    }
   ],
   "source": [
    "load_clf.predict(X_test.loc[:,\"CNT_CHILDREN\" :])"
   ]
  },
  {
   "cell_type": "code",
   "execution_count": 48,
   "id": "299b3861",
   "metadata": {},
   "outputs": [],
   "source": [
    "ID = 307213"
   ]
  },
  {
   "cell_type": "code",
   "execution_count": 49,
   "id": "717e0893",
   "metadata": {},
   "outputs": [
    {
     "ename": "NameError",
     "evalue": "name 'test' is not defined",
     "output_type": "error",
     "traceback": [
      "\u001b[0;31m---------------------------------------------------------------------------\u001b[0m",
      "\u001b[0;31mNameError\u001b[0m                                 Traceback (most recent call last)",
      "\u001b[0;32m<ipython-input-49-b3b7a8c505ba>\u001b[0m in \u001b[0;36m<module>\u001b[0;34m\u001b[0m\n\u001b[0;32m----> 1\u001b[0;31m \u001b[0mtest\u001b[0m\u001b[0;34m.\u001b[0m\u001b[0mloc\u001b[0m\u001b[0;34m[\u001b[0m\u001b[0mtest\u001b[0m\u001b[0;34m[\u001b[0m\u001b[0;34m'SK_ID_CURR'\u001b[0m\u001b[0;34m]\u001b[0m\u001b[0;34m==\u001b[0m \u001b[0mID\u001b[0m\u001b[0;34m,\u001b[0m \u001b[0;34m\"CNT_CHILDREN\"\u001b[0m \u001b[0;34m:\u001b[0m\u001b[0;34m]\u001b[0m\u001b[0;34m\u001b[0m\u001b[0;34m\u001b[0m\u001b[0m\n\u001b[0m",
      "\u001b[0;31mNameError\u001b[0m: name 'test' is not defined"
     ]
    }
   ],
   "source": [
    "test.loc[test['SK_ID_CURR']== ID, \"CNT_CHILDREN\" :]"
   ]
  },
  {
   "cell_type": "code",
   "execution_count": 51,
   "id": "a9f63d5a",
   "metadata": {},
   "outputs": [
    {
     "data": {
      "text/plain": [
       "(224828, 1224)"
      ]
     },
     "execution_count": 51,
     "metadata": {},
     "output_type": "execute_result"
    }
   ],
   "source": [
    "train.dropna().shape"
   ]
  },
  {
   "cell_type": "code",
   "execution_count": 52,
   "id": "cf9e4de2",
   "metadata": {},
   "outputs": [
    {
     "data": {
      "text/plain": [
       "(225430, 1300)"
      ]
     },
     "execution_count": 52,
     "metadata": {},
     "output_type": "execute_result"
    }
   ],
   "source": [
    "model.dropna().shape"
   ]
  },
  {
   "cell_type": "code",
   "execution_count": 55,
   "id": "0e5260e4",
   "metadata": {},
   "outputs": [],
   "source": [
    "#train.dropna().sample(5000, random_state=42).to_csv('finalT.csv', index=False)\n",
    "#model.dropna().sample(5000, random_state=42).to_csv('final.csv', index=False)"
   ]
  },
  {
   "cell_type": "code",
   "execution_count": 18,
   "id": "0a6f5196",
   "metadata": {},
   "outputs": [],
   "source": [
    "valMaxi = train[\"AMT_INCOME_TOTAL\"].describe()['75%']"
   ]
  },
  {
   "cell_type": "code",
   "execution_count": 19,
   "id": "331a7b93",
   "metadata": {},
   "outputs": [
    {
     "data": {
      "text/plain": [
       "count    3.074950e+05\n",
       "mean     1.687382e+05\n",
       "std      2.371816e+05\n",
       "min      2.565000e+04\n",
       "25%      1.125000e+05\n",
       "50%      1.468125e+05\n",
       "75%      2.025000e+05\n",
       "max      1.170000e+08\n",
       "Name: AMT_INCOME_TOTAL, dtype: float64"
      ]
     },
     "execution_count": 19,
     "metadata": {},
     "output_type": "execute_result"
    }
   ],
   "source": [
    "train[\"AMT_INCOME_TOTAL\"].describe()"
   ]
  },
  {
   "cell_type": "code",
   "execution_count": 20,
   "id": "05960cec",
   "metadata": {},
   "outputs": [],
   "source": [
    "trainNondef = train[train[\"TARGET\"]==0]"
   ]
  },
  {
   "cell_type": "code",
   "execution_count": 21,
   "id": "5e4d9507",
   "metadata": {},
   "outputs": [
    {
     "data": {
      "text/plain": [
       "Text(0.5, 1.0, 'poids du crédit sur le revenus')"
      ]
     },
     "execution_count": 21,
     "metadata": {},
     "output_type": "execute_result"
    },
    {
     "data": {
      "image/png": "[encoded data removed]",
      "text/plain": [
       "<Figure size 1080x720 with 4 Axes>"
      ]
     },
     "metadata": {},
     "output_type": "display_data"
    }
   ],
   "source": [
    "plt.figure(figsize=(15,10))\n",
    "valMaxi = train[\"AMT_INCOME_TOTAL\"].describe()['75%']\n",
    "plt.subplot(2, 2, 1)\n",
    "train.loc[train[\"AMT_INCOME_TOTAL\"]<valMaxi,\"AMT_INCOME_TOTAL\"].hist()\n",
    "plt.axvline(trainNondef[\"AMT_INCOME_TOTAL\"].mean(), color='red', label=\"moyenne des client\")\n",
    "plt.legend()\n",
    "plt.title(\"Revenus Total\")\n",
    "\n",
    "valMaxi = train[\"AMT_CREDIT\"].describe()['75%']\n",
    "plt.subplot(2, 2, 2)\n",
    "train.loc[train[\"AMT_CREDIT\"]<valMaxi,\"AMT_CREDIT\"].hist()\n",
    "plt.axvline(trainNondef[\"AMT_CREDIT\"].mean(), color='red', label=\"moyenne des client\")\n",
    "plt.legend()\n",
    "plt.title(\"Montant crédit\")\n",
    "\n",
    "plt.subplot(2, 2, 3)\n",
    "valMaxi = train[\"DAYS_EMPLOYED\"].describe()['max']\n",
    "train.loc[train[\"DAYS_EMPLOYED\"]<valMaxi,\"DAYS_EMPLOYED\"].hist()\n",
    "plt.axvline(trainNondef[\"DAYS_EMPLOYED\"].astype('float64').mean(), color='red', label=\"moyenne des client\")\n",
    "plt.legend()\n",
    "plt.title(\"Ancieneté\")\n",
    "\n",
    "plt.subplot(2, 2, 4)\n",
    "valMaxi = train[\"credSURrevenu\"].describe()['75%']\n",
    "train.loc[train[\"credSURrevenu\"]<valMaxi,\"credSURrevenu\"].hist()\n",
    "plt.axvline(trainNondef[\"credSURrevenu\"].astype('float64').mean(), color='red', label=\"moyenne des client\")\n",
    "plt.legend()\n",
    "plt.title(\"poids du crédit sur le revenus\")"
   ]
  },
  {
   "cell_type": "code",
   "execution_count": 22,
   "id": "262ace16",
   "metadata": {},
   "outputs": [
    {
     "data": {
      "text/plain": [
       "3.9638173388115656"
      ]
     },
     "execution_count": 22,
     "metadata": {},
     "output_type": "execute_result"
    }
   ],
   "source": [
    "trainNondef[\"credSURrevenu\"].astype('float64').mean()"
   ]
  },
  {
   "cell_type": "code",
   "execution_count": 23,
   "id": "8b9938b5",
   "metadata": {},
   "outputs": [
    {
     "data": {
      "text/plain": [
       "count    282670.000000\n",
       "mean               NaN\n",
       "std           0.000000\n",
       "min           0.037506\n",
       "25%           2.000000\n",
       "50%           3.267578\n",
       "75%           5.191406\n",
       "max          49.218750\n",
       "Name: credSURrevenu, dtype: float64"
      ]
     },
     "execution_count": 23,
     "metadata": {},
     "output_type": "execute_result"
    }
   ],
   "source": [
    "trainNondef[\"credSURrevenu\"].describe()"
   ]
  },
  {
   "cell_type": "code",
   "execution_count": 24,
   "id": "d40ae7a1",
   "metadata": {},
   "outputs": [
    {
     "ename": "KeyError",
     "evalue": "'FL'",
     "output_type": "error",
     "traceback": [
      "\u001b[0;31m---------------------------------------------------------------------------\u001b[0m",
      "\u001b[0;31mKeyError\u001b[0m                                  Traceback (most recent call last)",
      "\u001b[0;32m~/anaconda3/envs/ocrprojet7/lib/python3.8/site-packages/pandas/core/indexes/base.py\u001b[0m in \u001b[0;36mget_loc\u001b[0;34m(self, key, method, tolerance)\u001b[0m\n\u001b[1;32m   3079\u001b[0m             \u001b[0;32mtry\u001b[0m\u001b[0;34m:\u001b[0m\u001b[0;34m\u001b[0m\u001b[0;34m\u001b[0m\u001b[0m\n\u001b[0;32m-> 3080\u001b[0;31m                 \u001b[0;32mreturn\u001b[0m \u001b[0mself\u001b[0m\u001b[0;34m.\u001b[0m\u001b[0m_engine\u001b[0m\u001b[0;34m.\u001b[0m\u001b[0mget_loc\u001b[0m\u001b[0;34m(\u001b[0m\u001b[0mcasted_key\u001b[0m\u001b[0;34m)\u001b[0m\u001b[0;34m\u001b[0m\u001b[0;34m\u001b[0m\u001b[0m\n\u001b[0m\u001b[1;32m   3081\u001b[0m             \u001b[0;32mexcept\u001b[0m \u001b[0mKeyError\u001b[0m \u001b[0;32mas\u001b[0m \u001b[0merr\u001b[0m\u001b[0;34m:\u001b[0m\u001b[0;34m\u001b[0m\u001b[0;34m\u001b[0m\u001b[0m\n",
      "\u001b[0;32mpandas/_libs/index.pyx\u001b[0m in \u001b[0;36mpandas._libs.index.IndexEngine.get_loc\u001b[0;34m()\u001b[0m\n",
      "\u001b[0;32mpandas/_libs/index.pyx\u001b[0m in \u001b[0;36mpandas._libs.index.IndexEngine.get_loc\u001b[0;34m()\u001b[0m\n",
      "\u001b[0;32mpandas/_libs/hashtable_class_helper.pxi\u001b[0m in \u001b[0;36mpandas._libs.hashtable.PyObjectHashTable.get_item\u001b[0;34m()\u001b[0m\n",
      "\u001b[0;32mpandas/_libs/hashtable_class_helper.pxi\u001b[0m in \u001b[0;36mpandas._libs.hashtable.PyObjectHashTable.get_item\u001b[0;34m()\u001b[0m\n",
      "\u001b[0;31mKeyError\u001b[0m: 'FL'",
      "\nThe above exception was the direct cause of the following exception:\n",
      "\u001b[0;31mKeyError\u001b[0m                                  Traceback (most recent call last)",
      "\u001b[0;32m<ipython-input-24-6fb9f23ffca9>\u001b[0m in \u001b[0;36m<module>\u001b[0;34m\u001b[0m\n\u001b[0;32m----> 1\u001b[0;31m \u001b[0mtrainNondef\u001b[0m\u001b[0;34m[\u001b[0m\u001b[0;34m\"FL\"\u001b[0m\u001b[0;34m]\u001b[0m\u001b[0;34m.\u001b[0m\u001b[0mdescribe\u001b[0m\u001b[0;34m(\u001b[0m\u001b[0;34m)\u001b[0m\u001b[0;34m\u001b[0m\u001b[0;34m\u001b[0m\u001b[0m\n\u001b[0m",
      "\u001b[0;32m~/anaconda3/envs/ocrprojet7/lib/python3.8/site-packages/pandas/core/frame.py\u001b[0m in \u001b[0;36m__getitem__\u001b[0;34m(self, key)\u001b[0m\n\u001b[1;32m   3022\u001b[0m             \u001b[0;32mif\u001b[0m \u001b[0mself\u001b[0m\u001b[0;34m.\u001b[0m\u001b[0mcolumns\u001b[0m\u001b[0;34m.\u001b[0m\u001b[0mnlevels\u001b[0m \u001b[0;34m>\u001b[0m \u001b[0;36m1\u001b[0m\u001b[0;34m:\u001b[0m\u001b[0;34m\u001b[0m\u001b[0;34m\u001b[0m\u001b[0m\n\u001b[1;32m   3023\u001b[0m                 \u001b[0;32mreturn\u001b[0m \u001b[0mself\u001b[0m\u001b[0;34m.\u001b[0m\u001b[0m_getitem_multilevel\u001b[0m\u001b[0;34m(\u001b[0m\u001b[0mkey\u001b[0m\u001b[0;34m)\u001b[0m\u001b[0;34m\u001b[0m\u001b[0;34m\u001b[0m\u001b[0m\n\u001b[0;32m-> 3024\u001b[0;31m             \u001b[0mindexer\u001b[0m \u001b[0;34m=\u001b[0m \u001b[0mself\u001b[0m\u001b[0;34m.\u001b[0m\u001b[0mcolumns\u001b[0m\u001b[0;34m.\u001b[0m\u001b[0mget_loc\u001b[0m\u001b[0;34m(\u001b[0m\u001b[0mkey\u001b[0m\u001b[0;34m)\u001b[0m\u001b[0;34m\u001b[0m\u001b[0;34m\u001b[0m\u001b[0m\n\u001b[0m\u001b[1;32m   3025\u001b[0m             \u001b[0;32mif\u001b[0m \u001b[0mis_integer\u001b[0m\u001b[0;34m(\u001b[0m\u001b[0mindexer\u001b[0m\u001b[0;34m)\u001b[0m\u001b[0;34m:\u001b[0m\u001b[0;34m\u001b[0m\u001b[0;34m\u001b[0m\u001b[0m\n\u001b[1;32m   3026\u001b[0m                 \u001b[0mindexer\u001b[0m \u001b[0;34m=\u001b[0m \u001b[0;34m[\u001b[0m\u001b[0mindexer\u001b[0m\u001b[0;34m]\u001b[0m\u001b[0;34m\u001b[0m\u001b[0;34m\u001b[0m\u001b[0m\n",
      "\u001b[0;32m~/anaconda3/envs/ocrprojet7/lib/python3.8/site-packages/pandas/core/indexes/base.py\u001b[0m in \u001b[0;36mget_loc\u001b[0;34m(self, key, method, tolerance)\u001b[0m\n\u001b[1;32m   3080\u001b[0m                 \u001b[0;32mreturn\u001b[0m \u001b[0mself\u001b[0m\u001b[0;34m.\u001b[0m\u001b[0m_engine\u001b[0m\u001b[0;34m.\u001b[0m\u001b[0mget_loc\u001b[0m\u001b[0;34m(\u001b[0m\u001b[0mcasted_key\u001b[0m\u001b[0;34m)\u001b[0m\u001b[0;34m\u001b[0m\u001b[0;34m\u001b[0m\u001b[0m\n\u001b[1;32m   3081\u001b[0m             \u001b[0;32mexcept\u001b[0m \u001b[0mKeyError\u001b[0m \u001b[0;32mas\u001b[0m \u001b[0merr\u001b[0m\u001b[0;34m:\u001b[0m\u001b[0;34m\u001b[0m\u001b[0;34m\u001b[0m\u001b[0m\n\u001b[0;32m-> 3082\u001b[0;31m                 \u001b[0;32mraise\u001b[0m \u001b[0mKeyError\u001b[0m\u001b[0;34m(\u001b[0m\u001b[0mkey\u001b[0m\u001b[0;34m)\u001b[0m \u001b[0;32mfrom\u001b[0m \u001b[0merr\u001b[0m\u001b[0;34m\u001b[0m\u001b[0;34m\u001b[0m\u001b[0m\n\u001b[0m\u001b[1;32m   3083\u001b[0m \u001b[0;34m\u001b[0m\u001b[0m\n\u001b[1;32m   3084\u001b[0m         \u001b[0;32mif\u001b[0m \u001b[0mtolerance\u001b[0m \u001b[0;32mis\u001b[0m \u001b[0;32mnot\u001b[0m \u001b[0;32mNone\u001b[0m\u001b[0;34m:\u001b[0m\u001b[0;34m\u001b[0m\u001b[0;34m\u001b[0m\u001b[0m\n",
      "\u001b[0;31mKeyError\u001b[0m: 'FL'"
     ]
    }
   ],
   "source": [
    "trainNondef[\"FL\"].describe()"
   ]
  },
  {
   "cell_type": "code",
   "execution_count": 25,
   "id": "5814b440",
   "metadata": {},
   "outputs": [
    {
     "name": "stdout",
     "output_type": "stream",
     "text": [
      "<class 'pandas.core.frame.DataFrame'>\n",
      "Int64Index: 282670 entries, 1 to 307494\n",
      "Data columns (total 50 columns):\n",
      " #   Column                      Non-Null Count   Dtype   \n",
      "---  ------                      --------------   -----   \n",
      " 0   SK_ID_CURR                  282670 non-null  int32   \n",
      " 1   TARGET                      282670 non-null  int8    \n",
      " 2   NAME_CONTRACT_TYPE          282670 non-null  category\n",
      " 3   CODE_GENDER                 282670 non-null  category\n",
      " 4   FLAG_OWN_CAR                282670 non-null  category\n",
      " 5   FLAG_OWN_REALTY             282670 non-null  category\n",
      " 6   CNT_CHILDREN                282670 non-null  int8    \n",
      " 7   AMT_INCOME_TOTAL            282670 non-null  float32 \n",
      " 8   AMT_CREDIT                  282670 non-null  float32 \n",
      " 9   AMT_ANNUITY                 282670 non-null  float32 \n",
      " 10  AMT_GOODS_PRICE             282670 non-null  float32 \n",
      " 11  NAME_INCOME_TYPE            282670 non-null  category\n",
      " 12  NAME_EDUCATION_TYPE         282670 non-null  category\n",
      " 13  NAME_FAMILY_STATUS          282670 non-null  category\n",
      " 14  NAME_HOUSING_TYPE           282670 non-null  category\n",
      " 15  REGION_POPULATION_RELATIVE  282670 non-null  float16 \n",
      " 16  DAYS_BIRTH                  282670 non-null  int16   \n",
      " 17  DAYS_EMPLOYED               282670 non-null  float16 \n",
      " 18  FLAG_MOBIL                  282670 non-null  int8    \n",
      " 19  FLAG_EMP_PHONE              282670 non-null  int8    \n",
      " 20  FLAG_WORK_PHONE             282670 non-null  int8    \n",
      " 21  FLAG_CONT_MOBILE            282670 non-null  int8    \n",
      " 22  FLAG_PHONE                  282670 non-null  int8    \n",
      " 23  FLAG_EMAIL                  282670 non-null  int8    \n",
      " 24  CNT_FAM_MEMBERS             282670 non-null  float16 \n",
      " 25  ORGANIZATION_TYPE           282670 non-null  category\n",
      " 26  EXT_SOURCE_2                282670 non-null  float16 \n",
      " 27  EXT_SOURCE_3                282670 non-null  float16 \n",
      " 28  FLAG_DOCUMENT_2             282670 non-null  int8    \n",
      " 29  FLAG_DOCUMENT_3             282670 non-null  int8    \n",
      " 30  FLAG_DOCUMENT_4             282670 non-null  int8    \n",
      " 31  FLAG_DOCUMENT_5             282670 non-null  int8    \n",
      " 32  FLAG_DOCUMENT_6             282670 non-null  int8    \n",
      " 33  FLAG_DOCUMENT_7             282670 non-null  int8    \n",
      " 34  FLAG_DOCUMENT_8             282670 non-null  int8    \n",
      " 35  FLAG_DOCUMENT_9             282670 non-null  int8    \n",
      " 36  FLAG_DOCUMENT_10            282670 non-null  int8    \n",
      " 37  FLAG_DOCUMENT_11            282670 non-null  int8    \n",
      " 38  FLAG_DOCUMENT_12            282670 non-null  int8    \n",
      " 39  FLAG_DOCUMENT_13            282670 non-null  int8    \n",
      " 40  FLAG_DOCUMENT_14            282670 non-null  int8    \n",
      " 41  FLAG_DOCUMENT_15            282670 non-null  int8    \n",
      " 42  FLAG_DOCUMENT_16            282670 non-null  int8    \n",
      " 43  FLAG_DOCUMENT_17            282670 non-null  int8    \n",
      " 44  FLAG_DOCUMENT_18            282670 non-null  int8    \n",
      " 45  FLAG_DOCUMENT_19            282670 non-null  int8    \n",
      " 46  FLAG_DOCUMENT_20            282670 non-null  int8    \n",
      " 47  FLAG_DOCUMENT_21            282670 non-null  int8    \n",
      " 48  credSURrevenu               282670 non-null  float16 \n",
      " 49  annuitySURrevenu            282670 non-null  float16 \n",
      "dtypes: category(9), float16(7), float32(4), int16(1), int32(1), int8(28)\n",
      "memory usage: 21.8 MB\n"
     ]
    }
   ],
   "source": [
    "#trainNondef.info()"
   ]
  },
  {
   "cell_type": "code",
   "execution_count": 19,
   "id": "d77ddb8a",
   "metadata": {},
   "outputs": [
    {
     "ename": "NameError",
     "evalue": "name 'train' is not defined",
     "output_type": "error",
     "traceback": [
      "\u001b[0;31m---------------------------------------------------------------------------\u001b[0m",
      "\u001b[0;31mNameError\u001b[0m                                 Traceback (most recent call last)",
      "\u001b[0;32m<ipython-input-19-54bd001f3fc0>\u001b[0m in \u001b[0;36m<module>\u001b[0;34m\u001b[0m\n\u001b[0;32m----> 1\u001b[0;31m \u001b[0mtrain\u001b[0m\u001b[0;34m[\u001b[0m\u001b[0;34m\"NAME_FAMILY_STATUS\"\u001b[0m\u001b[0;34m]\u001b[0m\u001b[0;34m.\u001b[0m\u001b[0munique\u001b[0m\u001b[0;34m(\u001b[0m\u001b[0;34m)\u001b[0m\u001b[0;34m\u001b[0m\u001b[0;34m\u001b[0m\u001b[0m\n\u001b[0m",
      "\u001b[0;31mNameError\u001b[0m: name 'train' is not defined"
     ]
    }
   ],
   "source": [
    "#train[\"NAME_FAMILY_STATUS\"].unique()"
   ]
  },
  {
   "cell_type": "code",
   "execution_count": 33,
   "id": "9955a829",
   "metadata": {},
   "outputs": [],
   "source": [
    "#%reset -f"
   ]
  },
  {
   "cell_type": "code",
   "execution_count": 93,
   "id": "d888725b",
   "metadata": {},
   "outputs": [],
   "source": [
    "#neigh = NearestNeighbors(n_neighbors=5)"
   ]
  },
  {
   "cell_type": "code",
   "execution_count": 96,
   "id": "73ffc222",
   "metadata": {},
   "outputs": [],
   "source": [
    "#X_fit = X.loc[:,\"CNT_CHILDREN\" :].dropna(axis=1)"
   ]
  },
  {
   "cell_type": "code",
   "execution_count": 97,
   "id": "efe91cde",
   "metadata": {},
   "outputs": [
    {
     "ename": "ValueError",
     "evalue": "Input contains NaN, infinity or a value too large for dtype('float64').",
     "output_type": "error",
     "traceback": [
      "\u001b[0;31m---------------------------------------------------------------------------\u001b[0m",
      "\u001b[0;31mValueError\u001b[0m                                Traceback (most recent call last)",
      "\u001b[0;32m<ipython-input-97-f1a64e6c2872>\u001b[0m in \u001b[0;36m<module>\u001b[0;34m\u001b[0m\n\u001b[0;32m----> 1\u001b[0;31m \u001b[0mneigh\u001b[0m\u001b[0;34m.\u001b[0m\u001b[0mfit\u001b[0m\u001b[0;34m(\u001b[0m\u001b[0mX_fit\u001b[0m\u001b[0;34m.\u001b[0m\u001b[0mto_numpy\u001b[0m\u001b[0;34m(\u001b[0m\u001b[0;34m)\u001b[0m\u001b[0;34m)\u001b[0m\u001b[0;34m\u001b[0m\u001b[0;34m\u001b[0m\u001b[0m\n\u001b[0m",
      "\u001b[0;32m~/anaconda3/envs/ocrprojet7/lib/python3.8/site-packages/sklearn/neighbors/_base.py\u001b[0m in \u001b[0;36mfit\u001b[0;34m(self, X, y)\u001b[0m\n\u001b[1;32m   1171\u001b[0m             \u001b[0;32mor\u001b[0m \u001b[0;34m[\u001b[0m\u001b[0mn_samples\u001b[0m\u001b[0;34m,\u001b[0m \u001b[0mn_samples\u001b[0m\u001b[0;34m]\u001b[0m \u001b[0;32mif\u001b[0m \u001b[0mmetric\u001b[0m\u001b[0;34m=\u001b[0m\u001b[0;34m'precomputed'\u001b[0m\u001b[0;34m.\u001b[0m\u001b[0;34m\u001b[0m\u001b[0;34m\u001b[0m\u001b[0m\n\u001b[1;32m   1172\u001b[0m         \"\"\"\n\u001b[0;32m-> 1173\u001b[0;31m         \u001b[0;32mreturn\u001b[0m \u001b[0mself\u001b[0m\u001b[0;34m.\u001b[0m\u001b[0m_fit\u001b[0m\u001b[0;34m(\u001b[0m\u001b[0mX\u001b[0m\u001b[0;34m)\u001b[0m\u001b[0;34m\u001b[0m\u001b[0;34m\u001b[0m\u001b[0m\n\u001b[0m",
      "\u001b[0;32m~/anaconda3/envs/ocrprojet7/lib/python3.8/site-packages/sklearn/neighbors/_base.py\u001b[0m in \u001b[0;36m_fit\u001b[0;34m(self, X)\u001b[0m\n\u001b[1;32m    399\u001b[0m             \u001b[0mself\u001b[0m\u001b[0;34m.\u001b[0m\u001b[0mn_features_in_\u001b[0m \u001b[0;34m=\u001b[0m \u001b[0mX\u001b[0m\u001b[0;34m.\u001b[0m\u001b[0mshape\u001b[0m\u001b[0;34m[\u001b[0m\u001b[0;36m1\u001b[0m\u001b[0;34m]\u001b[0m\u001b[0;34m\u001b[0m\u001b[0;34m\u001b[0m\u001b[0m\n\u001b[1;32m    400\u001b[0m         \u001b[0;32melse\u001b[0m\u001b[0;34m:\u001b[0m\u001b[0;34m\u001b[0m\u001b[0;34m\u001b[0m\u001b[0m\n\u001b[0;32m--> 401\u001b[0;31m             \u001b[0mX\u001b[0m \u001b[0;34m=\u001b[0m \u001b[0mself\u001b[0m\u001b[0;34m.\u001b[0m\u001b[0m_validate_data\u001b[0m\u001b[0;34m(\u001b[0m\u001b[0mX\u001b[0m\u001b[0;34m,\u001b[0m \u001b[0maccept_sparse\u001b[0m\u001b[0;34m=\u001b[0m\u001b[0;34m'csr'\u001b[0m\u001b[0;34m)\u001b[0m\u001b[0;34m\u001b[0m\u001b[0;34m\u001b[0m\u001b[0m\n\u001b[0m\u001b[1;32m    402\u001b[0m \u001b[0;34m\u001b[0m\u001b[0m\n\u001b[1;32m    403\u001b[0m         \u001b[0mn_samples\u001b[0m \u001b[0;34m=\u001b[0m \u001b[0mX\u001b[0m\u001b[0;34m.\u001b[0m\u001b[0mshape\u001b[0m\u001b[0;34m[\u001b[0m\u001b[0;36m0\u001b[0m\u001b[0;34m]\u001b[0m\u001b[0;34m\u001b[0m\u001b[0;34m\u001b[0m\u001b[0m\n",
      "\u001b[0;32m~/anaconda3/envs/ocrprojet7/lib/python3.8/site-packages/sklearn/base.py\u001b[0m in \u001b[0;36m_validate_data\u001b[0;34m(self, X, y, reset, validate_separately, **check_params)\u001b[0m\n\u001b[1;32m    418\u001b[0m                     \u001b[0;34mf\"requires y to be passed, but the target y is None.\"\u001b[0m\u001b[0;34m\u001b[0m\u001b[0;34m\u001b[0m\u001b[0m\n\u001b[1;32m    419\u001b[0m                 )\n\u001b[0;32m--> 420\u001b[0;31m             \u001b[0mX\u001b[0m \u001b[0;34m=\u001b[0m \u001b[0mcheck_array\u001b[0m\u001b[0;34m(\u001b[0m\u001b[0mX\u001b[0m\u001b[0;34m,\u001b[0m \u001b[0;34m**\u001b[0m\u001b[0mcheck_params\u001b[0m\u001b[0;34m)\u001b[0m\u001b[0;34m\u001b[0m\u001b[0;34m\u001b[0m\u001b[0m\n\u001b[0m\u001b[1;32m    421\u001b[0m             \u001b[0mout\u001b[0m \u001b[0;34m=\u001b[0m \u001b[0mX\u001b[0m\u001b[0;34m\u001b[0m\u001b[0;34m\u001b[0m\u001b[0m\n\u001b[1;32m    422\u001b[0m         \u001b[0;32melse\u001b[0m\u001b[0;34m:\u001b[0m\u001b[0;34m\u001b[0m\u001b[0;34m\u001b[0m\u001b[0m\n",
      "\u001b[0;32m~/anaconda3/envs/ocrprojet7/lib/python3.8/site-packages/sklearn/utils/validation.py\u001b[0m in \u001b[0;36minner_f\u001b[0;34m(*args, **kwargs)\u001b[0m\n\u001b[1;32m     70\u001b[0m                           FutureWarning)\n\u001b[1;32m     71\u001b[0m         \u001b[0mkwargs\u001b[0m\u001b[0;34m.\u001b[0m\u001b[0mupdate\u001b[0m\u001b[0;34m(\u001b[0m\u001b[0;34m{\u001b[0m\u001b[0mk\u001b[0m\u001b[0;34m:\u001b[0m \u001b[0marg\u001b[0m \u001b[0;32mfor\u001b[0m \u001b[0mk\u001b[0m\u001b[0;34m,\u001b[0m \u001b[0marg\u001b[0m \u001b[0;32min\u001b[0m \u001b[0mzip\u001b[0m\u001b[0;34m(\u001b[0m\u001b[0msig\u001b[0m\u001b[0;34m.\u001b[0m\u001b[0mparameters\u001b[0m\u001b[0;34m,\u001b[0m \u001b[0margs\u001b[0m\u001b[0;34m)\u001b[0m\u001b[0;34m}\u001b[0m\u001b[0;34m)\u001b[0m\u001b[0;34m\u001b[0m\u001b[0;34m\u001b[0m\u001b[0m\n\u001b[0;32m---> 72\u001b[0;31m         \u001b[0;32mreturn\u001b[0m \u001b[0mf\u001b[0m\u001b[0;34m(\u001b[0m\u001b[0;34m**\u001b[0m\u001b[0mkwargs\u001b[0m\u001b[0;34m)\u001b[0m\u001b[0;34m\u001b[0m\u001b[0;34m\u001b[0m\u001b[0m\n\u001b[0m\u001b[1;32m     73\u001b[0m     \u001b[0;32mreturn\u001b[0m \u001b[0minner_f\u001b[0m\u001b[0;34m\u001b[0m\u001b[0;34m\u001b[0m\u001b[0m\n\u001b[1;32m     74\u001b[0m \u001b[0;34m\u001b[0m\u001b[0m\n",
      "\u001b[0;32m~/anaconda3/envs/ocrprojet7/lib/python3.8/site-packages/sklearn/utils/validation.py\u001b[0m in \u001b[0;36mcheck_array\u001b[0;34m(array, accept_sparse, accept_large_sparse, dtype, order, copy, force_all_finite, ensure_2d, allow_nd, ensure_min_samples, ensure_min_features, estimator)\u001b[0m\n\u001b[1;32m    642\u001b[0m \u001b[0;34m\u001b[0m\u001b[0m\n\u001b[1;32m    643\u001b[0m         \u001b[0;32mif\u001b[0m \u001b[0mforce_all_finite\u001b[0m\u001b[0;34m:\u001b[0m\u001b[0;34m\u001b[0m\u001b[0;34m\u001b[0m\u001b[0m\n\u001b[0;32m--> 644\u001b[0;31m             _assert_all_finite(array,\n\u001b[0m\u001b[1;32m    645\u001b[0m                                allow_nan=force_all_finite == 'allow-nan')\n\u001b[1;32m    646\u001b[0m \u001b[0;34m\u001b[0m\u001b[0m\n",
      "\u001b[0;32m~/anaconda3/envs/ocrprojet7/lib/python3.8/site-packages/sklearn/utils/validation.py\u001b[0m in \u001b[0;36m_assert_all_finite\u001b[0;34m(X, allow_nan, msg_dtype)\u001b[0m\n\u001b[1;32m     94\u001b[0m                 not allow_nan and not np.isfinite(X).all()):\n\u001b[1;32m     95\u001b[0m             \u001b[0mtype_err\u001b[0m \u001b[0;34m=\u001b[0m \u001b[0;34m'infinity'\u001b[0m \u001b[0;32mif\u001b[0m \u001b[0mallow_nan\u001b[0m \u001b[0;32melse\u001b[0m \u001b[0;34m'NaN, infinity'\u001b[0m\u001b[0;34m\u001b[0m\u001b[0;34m\u001b[0m\u001b[0m\n\u001b[0;32m---> 96\u001b[0;31m             raise ValueError(\n\u001b[0m\u001b[1;32m     97\u001b[0m                     \u001b[0mmsg_err\u001b[0m\u001b[0;34m.\u001b[0m\u001b[0mformat\u001b[0m\u001b[0;34m\u001b[0m\u001b[0;34m\u001b[0m\u001b[0m\n\u001b[1;32m     98\u001b[0m                     (type_err,\n",
      "\u001b[0;31mValueError\u001b[0m: Input contains NaN, infinity or a value too large for dtype('float64')."
     ]
    }
   ],
   "source": [
    "#neigh.fit(X_fit.to_numpy())"
   ]
  },
  {
   "cell_type": "code",
   "execution_count": null,
   "id": "183a36d7",
   "metadata": {},
   "outputs": [],
   "source": []
  }
 ],
 "metadata": {
  "kernelspec": {
   "display_name": "Python 3",
   "language": "python",
   "name": "python3"
  },
  "language_info": {
   "codemirror_mode": {
    "name": "ipython",
    "version": 3
   },
   "file_extension": ".py",
   "mimetype": "text/x-python",
   "name": "python",
   "nbconvert_exporter": "python",
   "pygments_lexer": "ipython3",
   "version": "3.8.2"
  }
 },
 "nbformat": 4,
 "nbformat_minor": 5
}
